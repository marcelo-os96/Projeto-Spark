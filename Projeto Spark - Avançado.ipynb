{
 "cells": [
  {
   "cell_type": "markdown",
   "metadata": {},
   "source": [
    "# Projeto Final de Spark - Avançado\n",
    "\n",
    "## Campanha Nacional de Vacinação contra Covid-19"
   ]
  },
  {
   "cell_type": "markdown",
   "metadata": {},
   "source": [
    "Aluno: Marcelo de Oliveira Santos\n",
    "\n",
    "Turma: Semantix Academy - Big Data Engineer 04-21\n",
    "\n",
    "Professor: Rodrigo Rebouças\n",
    "\n",
    "## Nível Avançado:\n",
    "\n",
    "Replicar as visualizações do site “https://covid.saude.gov.br/”, porém acessando diretamente a API de Elastic.\n",
    "\n",
    "Link oficial para todas as informações:  https://opendatasus.saude.gov.br/dataset/covid-19-vacinacao\n",
    "\n",
    "Informações para se conectar ao cluster:\n",
    "\n",
    "    > URL https://imunizacao-es.saude.gov.br/desc-imunizacao\n",
    "    > Nome do índice: desc-imunizacao\n",
    "    > Credenciais de acesso\n",
    "    > Usuário: imunizacao_public\n",
    "    > Senha: qlto5t&7r_@+#Tlstigi"
   ]
  },
  {
   "cell_type": "code",
   "execution_count": 1,
   "metadata": {},
   "outputs": [],
   "source": [
    "import requests\n",
    "import pandas as pd\n",
    "import time\n",
    "\n",
    "from pyspark.sql.functions import *\n",
    "from pyspark.sql.types import *"
   ]
  },
  {
   "cell_type": "code",
   "execution_count": 2,
   "metadata": {},
   "outputs": [],
   "source": [
    "#Acesso inicial para gravar '_scroll_id'\n",
    "covid_API = requests.get('https://imunizacao-es.saude.gov.br/_search?scroll=1m',\n",
    "                         auth=requests.auth.HTTPBasicAuth('imunizacao_public', 'qlto5t&7r_@+#Tlstigi'),\n",
    "                         params={\"size\":10000})"
   ]
  },
  {
   "cell_type": "code",
   "execution_count": 3,
   "metadata": {},
   "outputs": [
    {
     "data": {
      "text/plain": [
       "{'value': 116310688, 'relation': 'eq'}"
      ]
     },
     "execution_count": 3,
     "metadata": {},
     "output_type": "execute_result"
    }
   ],
   "source": [
    "covid_API.json()['hits']['total']"
   ]
  },
  {
   "cell_type": "code",
   "execution_count": 4,
   "metadata": {},
   "outputs": [
    {
     "data": {
      "text/plain": [
       "'FGluY2x1ZGVfY29udGV4dF91dWlkDnF1ZXJ5VGhlbkZldGNoAxZNS1hZTVE5c1RFV1d5TnBQdV94RHVnAAAAAG2Bx-EWVGNTY2RHVmdRTUtxVjBiQXFFMEJCURZlR0trMDNRRlFreTlFRWtxel9vME1BAAAAAGR9LH8WeUtZa0E0b1ZTZlNjam5veUxfS1ZHdxY3ZGlmdS1PcFNXbTBxTUhIbWhpdnB3AAAAAGu43uIWU1BFYmVBMDBRV1dULWt4VDJxczEwUQ=='"
      ]
     },
     "execution_count": 4,
     "metadata": {},
     "output_type": "execute_result"
    }
   ],
   "source": [
    "#'_scroll_id' = id temporário que será utilizado para navegar nos scrolls com 10000 registros cada\n",
    "covid_API.json()['_scroll_id']"
   ]
  },
  {
   "cell_type": "code",
   "execution_count": 5,
   "metadata": {},
   "outputs": [
    {
     "data": {
      "text/plain": [
       "10000"
      ]
     },
     "execution_count": 5,
     "metadata": {},
     "output_type": "execute_result"
    }
   ],
   "source": [
    "#Número de registros por Scroll\n",
    "len(covid_API.json()['hits']['hits'])"
   ]
  },
  {
   "cell_type": "code",
   "execution_count": 6,
   "metadata": {},
   "outputs": [],
   "source": [
    "#Scroll = 0 \n",
    "\n",
    "count_scroll = 0\n",
    "\n",
    "scroll_id = covid_API.json()['_scroll_id']\n",
    "covid_API_scroll = requests.get('https://imunizacao-es.saude.gov.br/_search/scroll',\n",
    "                                auth=requests.auth.HTTPBasicAuth('imunizacao_public', 'qlto5t&7r_@+#Tlstigi'),\n",
    "                                params={\"scroll_id\":scroll_id, \"scroll\":'1m'})\n",
    "\n",
    "#recebe infomações HITS, seleciona dict _source\n",
    "df_covid = pd.DataFrame([x['_source'] for x in covid_API_scroll.json()['hits']['hits']])"
   ]
  },
  {
   "cell_type": "code",
   "execution_count": 7,
   "metadata": {},
   "outputs": [
    {
     "data": {
      "text/html": [
       "<div>\n",
       "<style scoped>\n",
       "    .dataframe tbody tr th:only-of-type {\n",
       "        vertical-align: middle;\n",
       "    }\n",
       "\n",
       "    .dataframe tbody tr th {\n",
       "        vertical-align: top;\n",
       "    }\n",
       "\n",
       "    .dataframe thead th {\n",
       "        text-align: right;\n",
       "    }\n",
       "</style>\n",
       "<table border=\"1\" class=\"dataframe\">\n",
       "  <thead>\n",
       "    <tr style=\"text-align: right;\">\n",
       "      <th></th>\n",
       "      <th>estabelecimento_razaoSocial</th>\n",
       "      <th>vacina_dataAplicacao</th>\n",
       "      <th>vacina_grupoAtendimento_codigo</th>\n",
       "      <th>estabelecimento_valor</th>\n",
       "      <th>@timestamp</th>\n",
       "      <th>sistema_origem</th>\n",
       "      <th>vacina_lote</th>\n",
       "      <th>id_sistema_origem</th>\n",
       "      <th>estalecimento_noFantasia</th>\n",
       "      <th>paciente_endereco_coIbgeMunicipio</th>\n",
       "      <th>...</th>\n",
       "      <th>vacina_descricao_dose</th>\n",
       "      <th>vacina_fabricante_nome</th>\n",
       "      <th>vacina_categoria_codigo</th>\n",
       "      <th>paciente_endereco_uf</th>\n",
       "      <th>vacina_categoria_nome</th>\n",
       "      <th>redshift</th>\n",
       "      <th>vacina_nome</th>\n",
       "      <th>paciente_racaCor_valor</th>\n",
       "      <th>paciente_id</th>\n",
       "      <th>paciente_enumSexoBiologico</th>\n",
       "    </tr>\n",
       "  </thead>\n",
       "  <tbody>\n",
       "    <tr>\n",
       "      <th>0</th>\n",
       "      <td>PREFEITURA MUNICIPAL DE SANTO ANDRE</td>\n",
       "      <td>2021-02-16T00:00:00.000Z</td>\n",
       "      <td>000926</td>\n",
       "      <td>0008699</td>\n",
       "      <td>2021-07-09T15:56:02.556Z</td>\n",
       "      <td>VACIVIDA</td>\n",
       "      <td>202010029</td>\n",
       "      <td>18262</td>\n",
       "      <td>UBS JARDIM IRENE</td>\n",
       "      <td>355030</td>\n",
       "      <td>...</td>\n",
       "      <td>2ª Dose</td>\n",
       "      <td>Sinovac</td>\n",
       "      <td>9</td>\n",
       "      <td>SP</td>\n",
       "      <td>Trabalhadores de Saúde</td>\n",
       "      <td>v2</td>\n",
       "      <td>Covid-19-Coronavac-Sinovac/Butantan</td>\n",
       "      <td>SEM INFORMACAO</td>\n",
       "      <td>464ace8c056e3eb67ebdc8ad0a198b74f259d11700003b...</td>\n",
       "      <td>F</td>\n",
       "    </tr>\n",
       "    <tr>\n",
       "      <th>1</th>\n",
       "      <td>MUNICIPIO DE ITAJAI</td>\n",
       "      <td>2021-02-08T00:00:00.000Z</td>\n",
       "      <td>000907</td>\n",
       "      <td>2513870</td>\n",
       "      <td>2021-07-09T15:56:02.557Z</td>\n",
       "      <td>G-MUS</td>\n",
       "      <td>4120Z005</td>\n",
       "      <td>17901</td>\n",
       "      <td>CRESCEM CENTRO DE REFERENCIA DA SAUDE DA CRIAN...</td>\n",
       "      <td>420910</td>\n",
       "      <td>...</td>\n",
       "      <td>1ª Dose</td>\n",
       "      <td>FUNDACAO OSWALDO CRUZ</td>\n",
       "      <td>9</td>\n",
       "      <td>SC</td>\n",
       "      <td>Trabalhadores de Saúde</td>\n",
       "      <td>v2</td>\n",
       "      <td>Vacina Covid-19 - Covishield</td>\n",
       "      <td>BRANCA</td>\n",
       "      <td>2890fdfe35dd36eac48539c3740463bb4862d92e3f86cb...</td>\n",
       "      <td>M</td>\n",
       "    </tr>\n",
       "  </tbody>\n",
       "</table>\n",
       "<p>2 rows × 37 columns</p>\n",
       "</div>"
      ],
      "text/plain": [
       "           estabelecimento_razaoSocial      vacina_dataAplicacao  \\\n",
       "0  PREFEITURA MUNICIPAL DE SANTO ANDRE  2021-02-16T00:00:00.000Z   \n",
       "1                  MUNICIPIO DE ITAJAI  2021-02-08T00:00:00.000Z   \n",
       "\n",
       "  vacina_grupoAtendimento_codigo estabelecimento_valor  \\\n",
       "0                         000926               0008699   \n",
       "1                         000907               2513870   \n",
       "\n",
       "                 @timestamp sistema_origem vacina_lote id_sistema_origem  \\\n",
       "0  2021-07-09T15:56:02.556Z       VACIVIDA   202010029             18262   \n",
       "1  2021-07-09T15:56:02.557Z          G-MUS    4120Z005             17901   \n",
       "\n",
       "                            estalecimento_noFantasia  \\\n",
       "0                                   UBS JARDIM IRENE   \n",
       "1  CRESCEM CENTRO DE REFERENCIA DA SAUDE DA CRIAN...   \n",
       "\n",
       "  paciente_endereco_coIbgeMunicipio  ... vacina_descricao_dose  \\\n",
       "0                            355030  ...               2ª Dose   \n",
       "1                            420910  ...               1ª Dose   \n",
       "\n",
       "  vacina_fabricante_nome vacina_categoria_codigo paciente_endereco_uf  \\\n",
       "0                Sinovac                       9                   SP   \n",
       "1  FUNDACAO OSWALDO CRUZ                       9                   SC   \n",
       "\n",
       "    vacina_categoria_nome redshift                          vacina_nome  \\\n",
       "0  Trabalhadores de Saúde       v2  Covid-19-Coronavac-Sinovac/Butantan   \n",
       "1  Trabalhadores de Saúde       v2         Vacina Covid-19 - Covishield   \n",
       "\n",
       "  paciente_racaCor_valor                                        paciente_id  \\\n",
       "0         SEM INFORMACAO  464ace8c056e3eb67ebdc8ad0a198b74f259d11700003b...   \n",
       "1                 BRANCA  2890fdfe35dd36eac48539c3740463bb4862d92e3f86cb...   \n",
       "\n",
       "  paciente_enumSexoBiologico  \n",
       "0                          F  \n",
       "1                          M  \n",
       "\n",
       "[2 rows x 37 columns]"
      ]
     },
     "execution_count": 7,
     "metadata": {},
     "output_type": "execute_result"
    }
   ],
   "source": [
    "df_covid.head(2)"
   ]
  },
  {
   "cell_type": "code",
   "execution_count": 8,
   "metadata": {},
   "outputs": [
    {
     "name": "stdout",
     "output_type": "stream",
     "text": [
      "<class 'pandas.core.frame.DataFrame'>\n",
      "RangeIndex: 10000 entries, 0 to 9999\n",
      "Data columns (total 37 columns):\n",
      "estabelecimento_razaoSocial                 10000 non-null object\n",
      "vacina_dataAplicacao                        10000 non-null object\n",
      "vacina_grupoAtendimento_codigo              10000 non-null object\n",
      "estabelecimento_valor                       10000 non-null object\n",
      "@timestamp                                  10000 non-null object\n",
      "sistema_origem                              10000 non-null object\n",
      "vacina_lote                                 10000 non-null object\n",
      "id_sistema_origem                           10000 non-null object\n",
      "estalecimento_noFantasia                    10000 non-null object\n",
      "paciente_endereco_coIbgeMunicipio           10000 non-null object\n",
      "paciente_endereco_coPais                    10000 non-null object\n",
      "estabelecimento_uf                          10000 non-null object\n",
      "paciente_nacionalidade_enumNacionalidade    9986 non-null object\n",
      "paciente_endereco_nmPais                    10000 non-null object\n",
      "paciente_idade                              10000 non-null int64\n",
      "paciente_racaCor_codigo                     10000 non-null object\n",
      "vacina_codigo                               10000 non-null object\n",
      "paciente_endereco_nmMunicipio               10000 non-null object\n",
      "estabelecimento_municipio_nome              10000 non-null object\n",
      "vacina_fabricante_referencia                6525 non-null object\n",
      "estabelecimento_municipio_codigo            10000 non-null object\n",
      "vacina_grupoAtendimento_nome                10000 non-null object\n",
      "document_id                                 10000 non-null object\n",
      "@version                                    10000 non-null object\n",
      "data_importacao_rnds                        10000 non-null object\n",
      "paciente_endereco_cep                       10000 non-null object\n",
      "paciente_dataNascimento                     10000 non-null object\n",
      "vacina_descricao_dose                       10000 non-null object\n",
      "vacina_fabricante_nome                      10000 non-null object\n",
      "vacina_categoria_codigo                     10000 non-null object\n",
      "paciente_endereco_uf                        10000 non-null object\n",
      "vacina_categoria_nome                       10000 non-null object\n",
      "redshift                                    10000 non-null object\n",
      "vacina_nome                                 10000 non-null object\n",
      "paciente_racaCor_valor                      10000 non-null object\n",
      "paciente_id                                 10000 non-null object\n",
      "paciente_enumSexoBiologico                  10000 non-null object\n",
      "dtypes: int64(1), object(36)\n",
      "memory usage: 2.8+ MB\n"
     ]
    }
   ],
   "source": [
    "df_covid.info()"
   ]
  },
  {
   "cell_type": "code",
   "execution_count": 9,
   "metadata": {},
   "outputs": [
    {
     "name": "stdout",
     "output_type": "stream",
     "text": [
      "CPU times: user 9.25 s, sys: 360 ms, total: 9.61 s\n",
      "Wall time: 18 s\n"
     ]
    }
   ],
   "source": [
    "%%time\n",
    "#Loop para repetir processo anterior até hits  = []\n",
    "\n",
    "\"\"\"\n",
    "Para zerar hits preciso otimizar o loop abaixo\n",
    "~2s por scroll, sendo 11.631 scroll\n",
    "\"\"\"\n",
    "\n",
    "while count_scroll < 10:\n",
    "#while len(covid_API_scroll.json()['hits']['hits']) != 0:\n",
    "    scroll_id = covid_API.json()['_scroll_id']\n",
    "    covid_API_scroll = requests.get('https://imunizacao-es.saude.gov.br/_search/scroll',\n",
    "                                    auth=requests.auth.HTTPBasicAuth('imunizacao_public', 'qlto5t&7r_@+#Tlstigi'),\n",
    "                                    params={\"scroll_id\":scroll_id, \"scroll\":'1m'})\n",
    "\n",
    "    #covid_API_scroll.json()\n",
    "    #covid_API_scroll.json()['hits']['hits']\n",
    "    \n",
    "    df_covid = df_covid.append([x['_source'] for x in covid_API_scroll.json()['hits']['hits']])\n",
    "    count_scroll += 1"
   ]
  },
  {
   "cell_type": "code",
   "execution_count": 10,
   "metadata": {},
   "outputs": [
    {
     "name": "stdout",
     "output_type": "stream",
     "text": [
      "CPU times: user 33.6 s, sys: 36 ms, total: 33.7 s\n",
      "Wall time: 35.1 s\n"
     ]
    }
   ],
   "source": [
    "%%time\n",
    "covid_vac = spark.createDataFrame(df_covid)"
   ]
  },
  {
   "cell_type": "code",
   "execution_count": 11,
   "metadata": {},
   "outputs": [
    {
     "data": {
      "text/plain": [
       "110000"
      ]
     },
     "execution_count": 11,
     "metadata": {},
     "output_type": "execute_result"
    }
   ],
   "source": [
    "covid_vac.count()"
   ]
  },
  {
   "cell_type": "code",
   "execution_count": 14,
   "metadata": {},
   "outputs": [
    {
     "name": "stdout",
     "output_type": "stream",
     "text": [
      "+--------------------+---------+\n",
      "|paciente_endereco_uf|vacinados|\n",
      "+--------------------+---------+\n",
      "|                    |      550|\n",
      "|                  AC|      411|\n",
      "|                  AL|     1283|\n",
      "|                  AM|     2513|\n",
      "|                  AP|      269|\n",
      "+--------------------+---------+\n",
      "only showing top 5 rows\n",
      "\n"
     ]
    }
   ],
   "source": [
    "covid_vac.groupBy(\"paciente_endereco_uf\")\\\n",
    "        .agg(countDistinct(\"paciente_id\").alias(\"vacinados\"),\\\n",
    "            ).sort(asc(\"paciente_endereco_uf\")).show(5)"
   ]
  },
  {
   "cell_type": "code",
   "execution_count": 16,
   "metadata": {},
   "outputs": [
    {
     "name": "stdout",
     "output_type": "stream",
     "text": [
      "+---------------------+---------+\n",
      "|vacina_descricao_dose|vacinados|\n",
      "+---------------------+---------+\n",
      "|              1ª Dose|    66611|\n",
      "|              2ª Dose|    43368|\n",
      "+---------------------+---------+\n",
      "\n"
     ]
    }
   ],
   "source": [
    "covid_vac.groupBy(\"vacina_descricao_dose\")\\\n",
    "        .agg(countDistinct(\"paciente_id\").alias(\"vacinados\"),\\\n",
    "            ).sort(asc(\"vacina_descricao_dose\")).show(5)"
   ]
  },
  {
   "cell_type": "code",
   "execution_count": 17,
   "metadata": {},
   "outputs": [
    {
     "name": "stdout",
     "output_type": "stream",
     "text": [
      "+--------------------+---------+\n",
      "|vacina_dataAplicacao|vacinados|\n",
      "+--------------------+---------+\n",
      "|2021-05-04T00:00:...|     2672|\n",
      "|2021-05-03T00:00:...|    23546|\n",
      "|2021-05-02T00:00:...|     4089|\n",
      "|2021-05-01T00:00:...|     6566|\n",
      "|2021-04-30T00:00:...|     7575|\n",
      "+--------------------+---------+\n",
      "only showing top 5 rows\n",
      "\n"
     ]
    }
   ],
   "source": [
    "covid_vac.groupBy(\"vacina_dataAplicacao\")\\\n",
    "        .agg(countDistinct(\"paciente_id\").alias(\"vacinados\"),\\\n",
    "            ).sort(desc(\"vacina_dataAplicacao\")).show(5)"
   ]
  },
  {
   "cell_type": "code",
   "execution_count": 18,
   "metadata": {},
   "outputs": [
    {
     "name": "stdout",
     "output_type": "stream",
     "text": [
      "+--------------------+---------+\n",
      "|         vacina_nome|vacinados|\n",
      "+--------------------+---------+\n",
      "|Vacina covid-19 -...|        8|\n",
      "|Vacina Covid-19 -...|    54175|\n",
      "|Covid-19-Coronava...|    54368|\n",
      "|Covid-19-AstraZeneca|     1449|\n",
      "+--------------------+---------+\n",
      "\n"
     ]
    }
   ],
   "source": [
    "covid_vac.groupBy(\"vacina_nome\")\\\n",
    "        .agg(count(\"paciente_id\").alias(\"vacinados\"),\\\n",
    "            ).sort(desc(\"vacina_nome\")).show(5)"
   ]
  },
  {
   "cell_type": "markdown",
   "metadata": {},
   "source": [
    "##### Próximos passos:\n",
    "\n",
    "    > conseguir subir todos os hits;"
   ]
  }
 ],
 "metadata": {
  "kernelspec": {
   "display_name": "Python 3",
   "language": "python",
   "name": "python3"
  },
  "language_info": {
   "codemirror_mode": {
    "name": "ipython",
    "version": 3
   },
   "file_extension": ".py",
   "mimetype": "text/x-python",
   "name": "python",
   "nbconvert_exporter": "python",
   "pygments_lexer": "ipython3",
   "version": "3.8.8"
  }
 },
 "nbformat": 4,
 "nbformat_minor": 2
}
